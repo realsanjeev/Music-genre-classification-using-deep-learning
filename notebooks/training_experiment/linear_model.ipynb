{
  "cells": [
    {
      "cell_type": "code",
      "execution_count": null,
      "metadata": {
        "id": "T5-GgGKimafw"
      },
      "outputs": [],
      "source": [
        "# ! wget \"https://osf.io/drjhb/download\""
      ]
    },
    {
      "cell_type": "code",
      "execution_count": null,
      "metadata": {
        "id": "EywsH-9enAsF"
      },
      "outputs": [],
      "source": [
        "import os\n",
        "import json\n",
        "import math\n",
        "import librosa\n",
        "\n",
        "import requests\n",
        "import pickle"
      ]
    },
    {
      "cell_type": "markdown",
      "metadata": {
        "id": "VDxDxklxmWnR"
      },
      "source": [
        "# Download Dataset"
      ]
    },
    {
      "cell_type": "code",
      "execution_count": null,
      "metadata": {
        "id": "jVLrBgLaqezC"
      },
      "outputs": [],
      "source": [
        "ZIP_FILE = \"music.zip\"\n",
        "if ZIP_FILE in os.listdir():\n",
        "  print(\"Dataset file already exist\")\n",
        "else:\n",
        "  print(\"Finding the link to web.....\")\n",
        "  try:\n",
        "    request = requests.get('https://osf.io/drjhb/download')\n",
        "  except requests.ConnectionError as err:\n",
        "    print(f\"Error: {err}\")\n",
        "  with open(ZIP_FILE, 'wb') as file:\n",
        "    file.write(request.content)"
      ]
    },
    {
      "cell_type": "code",
      "execution_count": null,
      "metadata": {
        "id": "1YSZ70-hub2E"
      },
      "outputs": [],
      "source": [
        "# unzip the dataset\n",
        "from zipfile import ZipFile\n",
        "with ZipFile(ZIP_FILE, \"r\") as zipObj:\n",
        "  zipObj.extractall()"
      ]
    },
    {
      "cell_type": "code",
      "execution_count": null,
      "metadata": {
        "id": "jKslNzmbr9RQ"
      },
      "outputs": [],
      "source": [
        "os.listdir()"
      ]
    },
    {
      "cell_type": "code",
      "execution_count": null,
      "metadata": {
        "colab": {
          "base_uri": "https://localhost:8080/"
        },
        "id": "CB770sJjv6pz",
        "outputId": "d6196381-3f52-4f57-e80c-33410dd91a2c"
      },
      "outputs": [
        {
          "name": "stdout",
          "output_type": "stream",
          "text": [
            "Number of samples per track: 661500\n"
          ]
        }
      ],
      "source": [
        "DATASET_DIR = \"/content/Data/genres_original\"\n",
        "SAMPLE_RATE = 22050\n",
        "TRACK_DURATION = 30 # Track duration is 30 sec\n",
        "\n",
        "# \n",
        "SAMPLES_PER_TRACK = SAMPLE_RATE * TRACK_DURATION\n",
        "print(f\"Number of samples per track: {SAMPLES_PER_TRACK}\")"
      ]
    },
    {
      "cell_type": "code",
      "execution_count": null,
      "metadata": {
        "colab": {
          "base_uri": "https://localhost:8080/"
        },
        "id": "Y0uJfgBJxGuZ",
        "outputId": "db0291df-d6c6-43d0-fca3-f9f589257bdc"
      },
      "outputs": [
        {
          "name": "stdout",
          "output_type": "stream",
          "text": [
            "Loading file from HIPHOP genre....\n",
            "[INFO] 4 segment of hiphop.00032.wav is not included \n",
            "Loading file from REGGAE genre....\n",
            "Loading file from BLUES genre....\n",
            "Loading file from COUNTRY genre....\n",
            "[INFO] 4 segment of country.00007.wav is not included \n",
            "Loading file from DISCO genre....\n",
            "Loading file from CLASSICAL genre....\n",
            "Loading file from JAZZ genre....\n"
          ]
        },
        {
          "name": "stderr",
          "output_type": "stream",
          "text": [
            "<ipython-input-7-e4871a296e18>:29: UserWarning: PySoundFile failed. Trying audioread instead.\n",
            "  y, sr = librosa.load(filepath, sr=SAMPLE_RATE)\n",
            "/usr/local/lib/python3.10/dist-packages/librosa/core/audio.py:184: FutureWarning: librosa.core.audio.__audioread_load\n",
            "\tDeprecated as of librosa version 0.10.0.\n",
            "\tIt will be removed in librosa version 1.0.\n",
            "  y, sr_native = __audioread_load(path, offset, duration, dtype)\n"
          ]
        },
        {
          "name": "stdout",
          "output_type": "stream",
          "text": [
            "Loading file from METAL genre....\n",
            "Loading file from ROCK genre....\n",
            "Loading file from POP genre....\n"
          ]
        }
      ],
      "source": [
        "def extract_mfcc(SAMPLES_PER_TRACK, parts=5, num_mfcc=13, n_fft=2048, hop_length=512):\n",
        "\n",
        "  data = {\n",
        "      \"mapping\": [],\n",
        "      \"labels\": [],\n",
        "      \"mfcc\": [],\n",
        "  }\n",
        "\n",
        "  samples_per_segment = int(SAMPLES_PER_TRACK / parts)\n",
        "  mfcc_per_segment = math.ceil(samples_per_segment / hop_length)\n",
        "\n",
        "  # walk through all genres_original to get raw audio file\n",
        "  for i, (dirpath, dirnames, filenames) in enumerate(os.walk(DATASET_DIR)):\n",
        "    # select only subfolder of genre\n",
        "    # file inside DATASET_PATH/ main dir is not included\n",
        "    if dirpath is not DATASET_DIR:\n",
        "\n",
        "      # save dir file as label\n",
        "      label = os.path.basename(dirpath)\n",
        "      data[\"mapping\"].append(label)\n",
        "      print(f\"Loading file from {label.upper()} genre....\")\n",
        "\n",
        "      # process all raw audio files\n",
        "      for file in filenames:\n",
        "\n",
        "        filepath = os.path.join(dirpath, file)\n",
        "        # load the audio file\n",
        "        try:\n",
        "          y, sr = librosa.load(filepath, sr=SAMPLE_RATE)\n",
        "        except:\n",
        "          continue\n",
        "\n",
        "        for part in range(parts):\n",
        "\n",
        "          # find the start and finish of segment\n",
        "          start = samples_per_segment * part\n",
        "          end = start + samples_per_segment\n",
        "\n",
        "          # extract mfcc\n",
        "          mfcc = librosa.feature.mfcc(y=y[start:end], sr=sr, n_mfcc=num_mfcc, n_fft=n_fft, hop_length=hop_length)\n",
        "          mfcc = mfcc.T\n",
        "\n",
        "          if len(mfcc) == mfcc_per_segment:\n",
        "            data[\"mfcc\"].append(mfcc)\n",
        "            data[\"labels\"].append(i-1)\n",
        "          else:\n",
        "            print(f\"[INFO] {part} segment of {file} is not included \")\n",
        "  with open('data_feature.pickle', 'wb') as handle:\n",
        "    pickle.dump(data, handle, protocol=pickle.HIGHEST_PROTOCOL)\n",
        "  return data\n",
        "\n",
        "feature = extract_mfcc(SAMPLES_PER_TRACK=SAMPLES_PER_TRACK)"
      ]
    },
    {
      "cell_type": "code",
      "execution_count": null,
      "metadata": {
        "id": "oPiwEvuOZr_a"
      },
      "outputs": [],
      "source": [
        "# Import the required libraries\n",
        "from collections import Counter\n",
        "import numpy as np\n",
        "\n",
        "# Load feature mapping and labels into variables\n",
        "labels_name = feature[\"mapping\"]\n",
        "labels = np.array(feature[\"labels\"])\n",
        "\n",
        "# Count the occurrences of each label\n",
        "counter = Counter(labels)\n",
        "\n",
        "# Print the count of each label\n",
        "print(f\"labels_name: {labels_name}\")\n",
        "counter"
      ]
    },
    {
      "cell_type": "code",
      "execution_count": null,
      "metadata": {
        "colab": {
          "base_uri": "https://localhost:8080/",
          "height": 487
        },
        "id": "vkSTnT-6Eodu",
        "outputId": "89512ed6-1cd6-4d35-8660-9724e809267a"
      },
      "outputs": [
        {
          "data": {
            "image/png": "[encoded data removed]",
            "text/plain": [
              "<Figure size 1000x500 with 1 Axes>"
            ]
          },
          "metadata": {},
          "output_type": "display_data"
        }
      ],
      "source": [
        "# Import the necessary libraries\n",
        "from matplotlib import pyplot as plt\n",
        "\n",
        "# Set the figure size of the plot\n",
        "plt.figure(figsize=(10, 5))\n",
        "\n",
        "# Create a bar plot using the provided data\n",
        "plt.bar(labels_name, height=counter.values())\n",
        "\n",
        "# Set the title of the plot\n",
        "plt.title(\"Bar Plot for dataset distribution\")\n",
        "\n",
        "# Label the x-axis\n",
        "plt.xlabel(\"Labels\")\n",
        "\n",
        "# Label the y-axis\n",
        "plt.ylabel(\"Frequency \")\n",
        "\n",
        "# Display the plot\n",
        "plt.show()"
      ]
    },
    {
      "cell_type": "code",
      "execution_count": null,
      "metadata": {
        "colab": {
          "base_uri": "https://localhost:8080/"
        },
        "id": "EcoirBgybHBP",
        "outputId": "49235c2c-5fd6-4350-a980-555642f68f7a"
      },
      "outputs": [
        {
          "name": "stdout",
          "output_type": "stream",
          "text": [
            "Shape of mfcc: (4993, 259, 13)\n"
          ]
        }
      ],
      "source": [
        "# Convert the \"mfcc\" feature dictionary to a numpy array\n",
        "mfcc = np.array(feature[\"mfcc\"])\n",
        "\n",
        "# Normalize the values of the \"mfcc\" array to be between 0 and 1\n",
        "mfcc = mfcc / np.max(mfcc)\n",
        "\n",
        "# Print the shape of the normalized \"mfcc\" array\n",
        "print(f\"Shape of mfcc: {mfcc.shape}\")"
      ]
    },
    {
      "cell_type": "code",
      "execution_count": null,
      "metadata": {
        "colab": {
          "base_uri": "https://localhost:8080/",
          "height": 865
        },
        "id": "3JerPingBDvy",
        "outputId": "9142bda3-2e04-4296-813e-4ff4fd21eb2a"
      },
      "outputs": [
        {
          "data": {
            "text/plain": [
              "Text(0.5, 1.0, 'MFCCs')"
            ]
          },
          "execution_count": 11,
          "metadata": {},
          "output_type": "execute_result"
        },
        {
          "data": {
            "image/png": "[encoded data removed]",
            "text/plain": [
              "<Figure size 1000x1000 with 2 Axes>"
            ]
          },
          "metadata": {},
          "output_type": "display_data"
        }
      ],
      "source": [
        "# display MFCCs\n",
        "plt.figure(figsize=(10, 10))\n",
        "librosa.display.specshow(mfcc[0], sr=SAMPLE_RATE, hop_length=512)\n",
        "plt.xlabel(\"Time\")\n",
        "plt.ylabel(\"MFCC coefficients\")\n",
        "plt.colorbar()\n",
        "plt.title(\"MFCCs\")"
      ]
    },
    {
      "cell_type": "code",
      "execution_count": null,
      "metadata": {
        "colab": {
          "base_uri": "https://localhost:8080/",
          "height": 472
        },
        "id": "8yW2XkrEgnef",
        "outputId": "5d73fe3e-4ef2-4650-fb69-86bb8531cbf9"
      },
      "outputs": [
        {
          "data": {
            "image/png": "[encoded data removed]",
            "text/plain": [
              "<Figure size 640x480 with 1 Axes>"
            ]
          },
          "metadata": {},
          "output_type": "display_data"
        }
      ],
      "source": [
        "# Select the 10th row of the \"mfcc\" array, which represents one series of MFCC coefficients\n",
        "mfcc_series = mfcc[10, :]\n",
        "\n",
        "# Reshape the selected series to a 1D array using the \"view\" method, then flatten it to remove any nested arrays\n",
        "mfcc_series_flat = mfcc_series.view().reshape(-1)\n",
        "\n",
        "# Create a histogram of the flattened \"mfcc_series_flat\" array with 40 bins\n",
        "plt.hist(mfcc_series_flat, bins=40)\n",
        "\n",
        "# Set the title of the plot\n",
        "plt.title(\"Histogram of 10th MFCC series\")\n",
        "\n",
        "# Label the y-axis\n",
        "plt.ylabel(\"Frequency\")\n",
        "\n",
        "# Label the x-axis\n",
        "plt.xlabel(\"MFCC values\")\n",
        "\n",
        "# Display the plot\n",
        "plt.show()"
      ]
    },
    {
      "cell_type": "code",
      "execution_count": null,
      "metadata": {
        "id": "qwFJKNTJkAc8"
      },
      "outputs": [],
      "source": []
    },
    {
      "cell_type": "code",
      "execution_count": null,
      "metadata": {
        "colab": {
          "base_uri": "https://localhost:8080/"
        },
        "id": "5Oj6izHygTFp",
        "outputId": "30ab56d6-c881-41f8-b224-f620c3eb5e31"
      },
      "outputs": [
        {
          "name": "stdout",
          "output_type": "stream",
          "text": [
            "Shape of X_train: (3994, 259, 13)\n",
            "Shape of X_test: (999, 259, 13)\n",
            "Total training data: 3994 and testing data: 999\n"
          ]
        }
      ],
      "source": [
        "# Import the necessary library for splitting the dataset into training and testing sets\n",
        "from sklearn.model_selection import train_test_split\n",
        "\n",
        "# Split the \"mfcc\" and \"labels\" arrays into training and testing sets with a test size of 20% and a random state of 42\n",
        "X_train, X_test, y_train, y_test = train_test_split(mfcc, labels, test_size=0.2, random_state=42)\n",
        "\n",
        "# Print the shape of the \"X_train\" array\n",
        "print(f\"Shape of X_train: {X_train.shape}\")\n",
        "\n",
        "# Print the shape of the \"X_test\" array\n",
        "print(f\"Shape of X_test: {X_test.shape}\")\n",
        "\n",
        "# Print the number of training and testing data points, respectively\n",
        "print(f\"Total training data: {len(y_train)} and testing data: {len(y_test)}\")\n"
      ]
    },
    {
      "cell_type": "code",
      "execution_count": null,
      "metadata": {
        "id": "IOgEbtaGzBLK"
      },
      "outputs": [],
      "source": [
        "# Import the necessary libraries\n",
        "import datetime\n",
        "import tensorflow as tf\n",
        "from tensorflow import keras\n",
        "\n",
        "# Load the TensorBoard notebook extension\n",
        "%load_ext tensorboard\n",
        "\n",
        "# Clear any logs from previous runs\n",
        "!rm -rf ./logs/\n"
      ]
    },
    {
      "cell_type": "code",
      "execution_count": null,
      "metadata": {
        "id": "y7xK2xHTkyBr"
      },
      "outputs": [],
      "source": [
        "# Define a function to create a neural network model\n",
        "def create_model(X):\n",
        "  # Create a Sequential model object\n",
        "  model = keras.models.Sequential()\n",
        "  \n",
        "  # Add a Flatten layer to convert the 3D input shape to a 2D shape\n",
        "  model.add(keras.layers.Flatten(input_shape=(X.shape[1], X.shape[2])))\n",
        "  \n",
        "  # Add a dense layer with 512 units and ReLU activation, and a name for easy reference\n",
        "  model.add(keras.layers.Dense(512, activation=\"relu\", name=\"layers_dense1\"))\n",
        "  \n",
        "  # Add a dropout layer with a rate of 0.2 to prevent overfitting, and a name for easy reference\n",
        "  model.add(keras.layers.Dropout(0.2, name=\"layer_dropout\"))\n",
        "  \n",
        "  # Add another dense layer with 256 units and ReLU activation, and a name for easy reference\n",
        "  model.add(keras.layers.Dense(256, activation=\"relu\", name=\"layers_dense2\"))\n",
        "  \n",
        "  # Add another dropout layer with a rate of 0.3 to prevent overfitting, and a name for easy reference\n",
        "  model.add(keras.layers.Dropout(0.3, name=\"layer_dropout2\"))\n",
        "  \n",
        "  # Add another dense layer with 64 units and ReLU activation, and a name for easy reference\n",
        "  model.add(keras.layers.Dense(64, activation=\"relu\", name=\"layers_dense3\"))\n",
        "  \n",
        "  # Add a final dense layer with 10 units and softmax activation for classification, and a name for easy reference\n",
        "  model.add(keras.layers.Dense(10, activation=\"softmax\", name=\"layer_output\"))\n",
        "  \n",
        "  # Return the model\n",
        "  return model\n"
      ]
    },
    {
      "cell_type": "code",
      "execution_count": null,
      "metadata": {
        "id": "c_3EKCRAlToW"
      },
      "outputs": [],
      "source": [
        "# Create a neural network model using the function defined earlier\n",
        "model = create_model(X_train)\n",
        "\n",
        "# Define the loss function and optimizer for the model\n",
        "loss_object = tf.keras.losses.SparseCategoricalCrossentropy()\n",
        "adam = keras.optimizers.Adam(learning_rate=0.01)\n",
        "\n",
        "# Compile the model with the chosen optimizer and loss function, and specify accuracy as a metric to track\n",
        "model.compile(optimizer=adam,\n",
        "              loss=loss_object,\n",
        "              metrics=['accuracy'])\n",
        "\n",
        "# Define a log directory for TensorBoard to track training progress, and set up a callback to use it\n",
        "log_dir = \"logs/fit/\" + datetime.datetime.now().strftime(\"%Y%m%d-%H%M%S\")\n",
        "tensorboard_callback = keras.callbacks.TensorBoard(log_dir=log_dir, histogram_freq=1)\n",
        "\n",
        "# Print a summary of the model architecture to the console\n",
        "model.summary()\n",
        "\n",
        "# Train the model on the training data for 50 epochs, with 20% of the data used for validation\n",
        "# Also use the TensorBoard callback to track progress during training\n",
        "model.fit(X_train, y_train,\n",
        "          epochs=50, validation_split=0.2,\n",
        "          callbacks=[tensorboard_callback])\n"
      ]
    },
    {
      "cell_type": "code",
      "execution_count": null,
      "metadata": {
        "id": "bfoLXn2xE8Vw"
      },
      "outputs": [],
      "source": [
        "tf.keras.utils.plot_model(\n",
        "    model,\n",
        "    to_file='model_linear.png',\n",
        "    show_shapes=True,\n",
        "    show_dtype=False,\n",
        "    show_layer_names=True,\n",
        "    rankdir='TB',\n",
        "    expand_nested=False,\n",
        "    dpi=96,\n",
        "    layer_range=None,\n",
        "    show_layer_activations=False,\n",
        "    show_trainable=False\n",
        ")"
      ]
    },
    {
      "cell_type": "code",
      "source": [],
      "metadata": {
        "id": "JfykQMoT4gA4"
      },
      "execution_count": null,
      "outputs": []
    },
    {
      "cell_type": "code",
      "execution_count": null,
      "metadata": {
        "colab": {
          "background_save": true
        },
        "id": "Ea4gxq-Gohlx",
        "outputId": "1d4534d5-89d0-45b7-899a-c59b66db8141"
      },
      "outputs": [
        {
          "data": {
            "text/plain": [
              "Reusing TensorBoard on port 6006 (pid 18947), started 2:00:55 ago. (Use '!kill 18947' to kill it.)"
            ]
          },
          "metadata": {},
          "output_type": "display_data"
        },
        {
          "data": {
            "application/javascript": [
              "\n",
              "        (async () => {\n",
              "            const url = new URL(await google.colab.kernel.proxyPort(6006, {'cache': true}));\n",
              "            url.searchParams.set('tensorboardColab', 'true');\n",
              "            const iframe = document.createElement('iframe');\n",
              "            iframe.src = url;\n",
              "            iframe.setAttribute('width', '100%');\n",
              "            iframe.setAttribute('height', '800');\n",
              "            iframe.setAttribute('frameborder', 0);\n",
              "            document.body.appendChild(iframe);\n",
              "        })();\n",
              "    "
            ],
            "text/plain": [
              "<IPython.core.display.Javascript object>"
            ]
          },
          "metadata": {},
          "output_type": "display_data"
        }
      ],
      "source": [
        "%tensorboard --logdir logs/fit"
      ]
    },
    {
      "cell_type": "code",
      "execution_count": null,
      "metadata": {
        "id": "dWuO2tsSqo2B"
      },
      "outputs": [],
      "source": [
        "# Create a training dataset from the X_train and y_train arrays\n",
        "train_dataset = tf.data.Dataset.from_tensor_slices((X_train, y_train))\n",
        "\n",
        "# Create a testing dataset from the X_test and y_test arrays\n",
        "test_dataset = tf.data.Dataset.from_tensor_slices((X_test, y_test))\n",
        "\n",
        "# Shuffle and batch the training dataset\n",
        "train_dataset = train_dataset.shuffle(1000).batch(64)\n",
        "\n",
        "# Batch the testing dataset\n",
        "test_dataset = test_dataset.batch(64)\n",
        "\n",
        "# Print the shape of the elements in the datasets\n",
        "print(f\"Shape of train dataset: {train_dataset.element_spec}\")\n",
        "print(f\"Shape of test dataset: {test_dataset.element_spec}\")"
      ]
    },
    {
      "cell_type": "code",
      "execution_count": null,
      "metadata": {
        "id": "Bb2j1DsjsOq0"
      },
      "outputs": [],
      "source": [
        "# Define our metrics\n",
        "train_loss = tf.keras.metrics.Mean('train_loss', dtype=tf.float32)\n",
        "train_accuracy = tf.keras.metrics.SparseCategoricalAccuracy('train_accuracy')\n",
        "test_loss = tf.keras.metrics.Mean('test_loss', dtype=tf.float32)\n",
        "test_accuracy = tf.keras.metrics.SparseCategoricalAccuracy('test_accuracy')\n"
      ]
    },
    {
      "cell_type": "code",
      "execution_count": null,
      "metadata": {
        "id": "ag2xP0ziua2u"
      },
      "outputs": [],
      "source": [
        "from tensorflow.python import training\n",
        "def train_step(model, optimizer, X_train, y_train):\n",
        "  with tf.GradientTape() as tape:\n",
        "    predictions = model(X_train, training=True)\n",
        "    loss = loss_object(y_train, predictions)\n",
        "  grads = tape.gradient(loss, model.trainable_variables)\n",
        "  optimizer.apply_gradients(zip(grads, model.trainable_variables))\n",
        "\n",
        "  train_loss(loss)\n",
        "  train_accuracy(y_train, predictions)"
      ]
    },
    {
      "cell_type": "code",
      "execution_count": null,
      "metadata": {
        "id": "Fk0LXwOywsaB"
      },
      "outputs": [],
      "source": [
        "def test_step(model, X_test, y_test):\n",
        "  predictions = model(X_test)\n",
        "  loss = loss_object(y_test, predictions)\n",
        "\n",
        "  test_loss(loss)\n",
        "  test_accuracy(y_test, predictions)"
      ]
    },
    {
      "cell_type": "code",
      "execution_count": null,
      "metadata": {
        "id": "hwub4gl7xZ1V"
      },
      "outputs": [],
      "source": [
        "current_time = datetime.datetime.now().strftime(\"%Y%m%d-%H%M%S\")\n",
        "train_log_dir = 'logs/gradient_tape/' + current_time + '/train'\n",
        "test_log_dir = 'logs/gradient_tape/' + current_time + '/test'\n",
        "train_summary_writer = tf.summary.create_file_writer(train_log_dir)\n",
        "test_summary_writer = tf.summary.create_file_writer(test_log_dir)"
      ]
    },
    {
      "cell_type": "code",
      "execution_count": null,
      "metadata": {
        "colab": {
          "background_save": true
        },
        "id": "3Y46Rru3xeJ6",
        "outputId": "18ac89c7-6fcf-49bb-b4f0-0a705c33d5d2"
      },
      "outputs": [
        {
          "name": "stdout",
          "output_type": "stream",
          "text": [
            "Epoch 1, Loss: 1.8729634284973145, Accuracy: 31.672508239746094, Test Loss: 1.5701477527618408, Test Accuracy: 44.844844818115234\n",
            "Epoch 2, Loss: 1.559516191482544, Accuracy: 43.84075927734375, Test Loss: 1.486940860748291, Test Accuracy: 45.145145416259766\n",
            "Epoch 3, Loss: 1.3993350267410278, Accuracy: 50.0, Test Loss: 1.3497905731201172, Test Accuracy: 50.25025177001953\n",
            "Epoch 4, Loss: 1.312972068786621, Accuracy: 52.87932205200195, Test Loss: 1.3616678714752197, Test Accuracy: 49.5495491027832\n",
            "Epoch 5, Loss: 1.2183623313903809, Accuracy: 56.60991668701172, Test Loss: 1.303970456123352, Test Accuracy: 54.55455017089844\n",
            "Epoch 6, Loss: 1.1547458171844482, Accuracy: 59.21382141113281, Test Loss: 1.2569392919540405, Test Accuracy: 56.556556701660156\n",
            "Epoch 7, Loss: 1.0638699531555176, Accuracy: 63.16975402832031, Test Loss: 1.2367879152297974, Test Accuracy: 56.65665817260742\n",
            "Epoch 8, Loss: 1.0113322734832764, Accuracy: 64.54681396484375, Test Loss: 1.1921800374984741, Test Accuracy: 58.25825881958008\n",
            "Epoch 9, Loss: 0.9435238838195801, Accuracy: 67.17576599121094, Test Loss: 1.199634075164795, Test Accuracy: 58.25825881958008\n",
            "Epoch 10, Loss: 0.8601641654968262, Accuracy: 69.85478210449219, Test Loss: 1.2620316743850708, Test Accuracy: 56.65665817260742\n",
            "Epoch 11, Loss: 0.8188282251358032, Accuracy: 71.30696105957031, Test Loss: 1.2069311141967773, Test Accuracy: 58.658660888671875\n",
            "Epoch 12, Loss: 0.7720069885253906, Accuracy: 73.78568267822266, Test Loss: 1.3247307538986206, Test Accuracy: 58.15815734863281\n",
            "Epoch 13, Loss: 0.7369034886360168, Accuracy: 74.16123962402344, Test Loss: 1.2765278816223145, Test Accuracy: 59.75975799560547\n",
            "Epoch 14, Loss: 0.6457778811454773, Accuracy: 77.1657485961914, Test Loss: 1.2961763143539429, Test Accuracy: 61.06106185913086\n",
            "Epoch 15, Loss: 0.6328780651092529, Accuracy: 77.74160766601562, Test Loss: 1.4163895845413208, Test Accuracy: 57.15715789794922\n",
            "Epoch 16, Loss: 0.571901261806488, Accuracy: 80.02002716064453, Test Loss: 1.442946195602417, Test Accuracy: 59.75975799560547\n",
            "Epoch 17, Loss: 0.567249059677124, Accuracy: 79.74462127685547, Test Loss: 1.3096657991409302, Test Accuracy: 60.06005859375\n",
            "Epoch 18, Loss: 0.48138749599456787, Accuracy: 82.7991943359375, Test Loss: 1.4020622968673706, Test Accuracy: 61.46146011352539\n",
            "Epoch 19, Loss: 0.47769540548324585, Accuracy: 83.60040283203125, Test Loss: 1.5810502767562866, Test Accuracy: 60.06005859375\n",
            "Epoch 20, Loss: 0.45955926179885864, Accuracy: 84.10115051269531, Test Loss: 1.474796175956726, Test Accuracy: 60.4604606628418\n",
            "Epoch 21, Loss: 0.43068191409111023, Accuracy: 85.17776489257812, Test Loss: 1.4300897121429443, Test Accuracy: 61.661659240722656\n",
            "Epoch 22, Loss: 0.40705129504203796, Accuracy: 86.10415649414062, Test Loss: 1.6227720975875854, Test Accuracy: 59.5595588684082\n",
            "Epoch 23, Loss: 0.3684476613998413, Accuracy: 87.6815185546875, Test Loss: 1.516414761543274, Test Accuracy: 61.46146011352539\n",
            "Epoch 24, Loss: 0.35752370953559875, Accuracy: 87.88182067871094, Test Loss: 1.6720538139343262, Test Accuracy: 60.76076126098633\n",
            "Epoch 25, Loss: 0.3294026851654053, Accuracy: 88.382568359375, Test Loss: 1.6159954071044922, Test Accuracy: 59.4594612121582\n",
            "Epoch 26, Loss: 0.3175804316997528, Accuracy: 89.13369750976562, Test Loss: 1.6422324180603027, Test Accuracy: 61.16115951538086\n",
            "Epoch 27, Loss: 0.30038660764694214, Accuracy: 90.03504943847656, Test Loss: 1.6159312725067139, Test Accuracy: 62.462459564208984\n",
            "Epoch 28, Loss: 0.2717575132846832, Accuracy: 91.11166381835938, Test Loss: 1.7377943992614746, Test Accuracy: 61.16115951538086\n",
            "Epoch 29, Loss: 0.287016361951828, Accuracy: 90.38558197021484, Test Loss: 1.7042527198791504, Test Accuracy: 61.261260986328125\n",
            "Epoch 30, Loss: 0.2812988758087158, Accuracy: 90.58588409423828, Test Loss: 1.7726536989212036, Test Accuracy: 60.56056213378906\n",
            "Epoch 31, Loss: 0.2900315821170807, Accuracy: 90.03504943847656, Test Loss: 1.7948744297027588, Test Accuracy: 62.16216278076172\n",
            "Epoch 32, Loss: 0.2677788734436035, Accuracy: 91.03655242919922, Test Loss: 1.8096402883529663, Test Accuracy: 59.9599609375\n",
            "Epoch 33, Loss: 0.22935368120670319, Accuracy: 92.43865966796875, Test Loss: 1.8033020496368408, Test Accuracy: 60.56056213378906\n",
            "Epoch 34, Loss: 0.21857208013534546, Accuracy: 92.03805541992188, Test Loss: 1.91538405418396, Test Accuracy: 60.4604606628418\n",
            "Epoch 35, Loss: 0.20332658290863037, Accuracy: 93.2148208618164, Test Loss: 1.8396217823028564, Test Accuracy: 60.06005859375\n",
            "Epoch 36, Loss: 0.22239170968532562, Accuracy: 92.33850860595703, Test Loss: 1.7792410850524902, Test Accuracy: 61.361358642578125\n",
            "Epoch 37, Loss: 0.2044236958026886, Accuracy: 93.18978118896484, Test Loss: 1.9962866306304932, Test Accuracy: 61.06106185913086\n",
            "Epoch 38, Loss: 0.2020222395658493, Accuracy: 93.31497192382812, Test Loss: 1.9781323671340942, Test Accuracy: 60.4604606628418\n",
            "Epoch 39, Loss: 0.18428052961826324, Accuracy: 93.264892578125, Test Loss: 2.041688919067383, Test Accuracy: 59.5595588684082\n",
            "Epoch 40, Loss: 0.18256524205207825, Accuracy: 93.23986053466797, Test Loss: 2.0241451263427734, Test Accuracy: 61.361358642578125\n",
            "Epoch 41, Loss: 0.16871364414691925, Accuracy: 94.24136352539062, Test Loss: 2.010283946990967, Test Accuracy: 60.36035919189453\n",
            "Epoch 42, Loss: 0.1684548407793045, Accuracy: 94.49173736572266, Test Loss: 2.156268358230591, Test Accuracy: 60.86085891723633\n",
            "Epoch 43, Loss: 0.1953197866678238, Accuracy: 93.39008331298828, Test Loss: 2.1086177825927734, Test Accuracy: 60.36035919189453\n",
            "Epoch 44, Loss: 0.22678665816783905, Accuracy: 92.68903350830078, Test Loss: 1.921822190284729, Test Accuracy: 61.86186218261719\n",
            "Epoch 45, Loss: 0.17594830691814423, Accuracy: 94.29143524169922, Test Loss: 2.1701693534851074, Test Accuracy: 59.4594612121582\n",
            "Epoch 46, Loss: 0.17521880567073822, Accuracy: 93.84075927734375, Test Loss: 2.167358875274658, Test Accuracy: 61.06106185913086\n",
            "Epoch 47, Loss: 0.17230403423309326, Accuracy: 94.11617279052734, Test Loss: 1.9970885515213013, Test Accuracy: 63.463462829589844\n",
            "Epoch 48, Loss: 0.17767785489559174, Accuracy: 94.01602172851562, Test Loss: 2.0784311294555664, Test Accuracy: 60.66065979003906\n",
            "Epoch 49, Loss: 0.14186251163482666, Accuracy: 94.96744537353516, Test Loss: 2.107440948486328, Test Accuracy: 62.26226043701172\n",
            "Epoch 50, Loss: 0.15042459964752197, Accuracy: 94.91737365722656, Test Loss: 2.274296760559082, Test Accuracy: 60.26026153564453\n"
          ]
        }
      ],
      "source": [
        "model = create_model(X_test) # reset our model\n",
        "optimizer = tf.keras.optimizers.Adam()\n",
        "EPOCHS = 50\n",
        "\n",
        "for epoch in range(EPOCHS):\n",
        "  for (x_train, y_train) in train_dataset:\n",
        "    train_step(model, optimizer, x_train, y_train)\n",
        "  with train_summary_writer.as_default():\n",
        "    tf.summary.scalar('loss', train_loss.result(), step=epoch)\n",
        "    tf.summary.scalar('accuracy', train_accuracy.result(), step=epoch)\n",
        "\n",
        "  for (x_test, y_test) in test_dataset:\n",
        "    test_step(model, x_test, y_test)\n",
        "  with test_summary_writer.as_default():\n",
        "    tf.summary.scalar('loss', test_loss.result(), step=epoch)\n",
        "    tf.summary.scalar('accuracy', test_accuracy.result(), step=epoch)\n",
        "\n",
        "  template = 'Epoch {}, Loss: {}, Accuracy: {}, Test Loss: {}, Test Accuracy: {}'\n",
        "  print (template.format(epoch+1,\n",
        "                         train_loss.result(), \n",
        "                         train_accuracy.result()*100,\n",
        "                         test_loss.result(), \n",
        "                         test_accuracy.result()*100))\n",
        "\n",
        "  # Reset metrics every epoch\n",
        "  train_loss.reset_states()\n",
        "  test_loss.reset_states()\n",
        "  train_accuracy.reset_states()\n",
        "  test_accuracy.reset_states()"
      ]
    },
    {
      "cell_type": "code",
      "execution_count": null,
      "metadata": {
        "id": "4stkjEPfzkxG"
      },
      "outputs": [],
      "source": [
        "!tensorboard dev upload \\\n",
        "  --logdir logs/fit \\\n",
        "  --name \"(optional) My latest experiment\" \\\n",
        "  --description \"(optional) Simple comparison of several hyperparameters\" \\\n",
        "  --one_shot"
      ]
    },
    {
      "cell_type": "code",
      "execution_count": null,
      "metadata": {
        "id": "o4hZG5IfqW3T"
      },
      "outputs": [],
      "source": [
        "def polt_history(history):\n",
        "\n",
        "  fig, ax = plt.subplots(1, 2)\n",
        "  fig.set_figwidth(20)\n",
        "  epochs = np.arange(0, len(history[\"loss\"]), 1)\n",
        "\n",
        "  ax[0].plot(epochs, history[\"loss\"], label=\"Train loss\")\n",
        "  ax[0].plot(epochs, history[\"val_loss\"], label=\"Val loss\")\n",
        "  ax[0].set_xlabel(\"Epoch\")\n",
        "  ax[0].set_ylabel(\"Loss\")\n",
        "  ax[0].set_title(\"Training Loss Track\")\n",
        "  ax[0].legend()\n",
        "\n",
        "  ax[1].plot(epochs, history[\"accuracy\"], label=\"Train Accuracy\")\n",
        "  ax[1].plot(epochs, history[\"val_accuracy\"], label=\"Val Accuracy\")\n",
        "  ax[1].set_xlabel(\"Epoch\")\n",
        "  ax[1].set_ylabel(\"Accuracy\")\n",
        "  ax[1].set_title(\"Training Accuracy Track\") \n",
        "  ax[1].set_ylim(0, 1)\n",
        "  ax[1].legend()\n",
        "\n",
        "  plt.show()\n",
        "\n",
        "polt_history(history.history)"
      ]
    },
    {
      "cell_type": "code",
      "execution_count": null,
      "metadata": {
        "id": "YiqS6xbRKlUc"
      },
      "outputs": [],
      "source": [
        "!tensorboard dev upload \\\n",
        "  --logdir logs \\\n",
        "  --name \"Music Genre Recognization graph\" \\\n",
        "  --one_shot"
      ]
    },
    {
      "cell_type": "code",
      "execution_count": null,
      "metadata": {
        "id": "a4m_kmHpBrBF"
      },
      "outputs": [],
      "source": []
    },
    {
      "cell_type": "code",
      "execution_count": null,
      "metadata": {
        "id": "FtVkTxZRulrB"
      },
      "outputs": [],
      "source": [
        "# assign location\n",
        "path='my_model_linear.h5'\n",
        " \n",
        "# save the model for future use\n",
        "model.save(path)"
      ]
    },
    {
      "cell_type": "code",
      "execution_count": null,
      "metadata": {
        "id": "XTZ8BX005bCr"
      },
      "outputs": [],
      "source": []
    },
    {
      "cell_type": "code",
      "execution_count": null,
      "metadata": {
        "id": "fimNTf9n5cKG"
      },
      "outputs": [],
      "source": [
        "from tensorflow.keras.models import load_model\n",
        "\n",
        "model = load_model(\"my_model_linear.h5\")"
      ]
    },
    {
      "cell_type": "code",
      "execution_count": null,
      "metadata": {
        "id": "qDxik3hP50W0"
      },
      "outputs": [],
      "source": [
        "predict = model.predict(X_test)\n",
        "predict_label = np.argmax(predict, axis=-1)"
      ]
    },
    {
      "cell_type": "code",
      "execution_count": null,
      "metadata": {
        "id": "1mVTreIo6Eol"
      },
      "outputs": [],
      "source": []
    },
    {
      "cell_type": "code",
      "execution_count": null,
      "metadata": {
        "id": "co-eOJpc7kYO"
      },
      "outputs": [],
      "source": [
        "import seaborn as sns\n",
        "from sklearn.metrics import confusion_matrix, classification_report\n",
        "\n",
        "cm = confusion_matrix(y_true=y_test, y_pred=predict_label)\n",
        "sns.heatmap(cm, annot=True, xticklabels=labels_name, yticklabels=labels_name)\n",
        "plt.title(\"Confusion Matrix\")\n",
        "plt.xlabel(\"Predicted Class\")\n",
        "plt.ylabel(\"Actual Class\")"
      ]
    },
    {
      "cell_type": "code",
      "execution_count": null,
      "metadata": {
        "id": "NOyP1n4j-Vbi"
      },
      "outputs": [],
      "source": [
        "print(classification_report(y_true=y_test, y_pred=predict_label))"
      ]
    }
  ],
  "metadata": {
    "colab": {
      "provenance": []
    },
    "kernelspec": {
      "display_name": "Python 3",
      "name": "python3"
    },
    "language_info": {
      "name": "python"
    }
  },
  "nbformat": 4,
  "nbformat_minor": 0
}